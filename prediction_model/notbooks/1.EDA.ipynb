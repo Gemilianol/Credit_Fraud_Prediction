{
 "cells": [
  {
   "cell_type": "code",
   "execution_count": 1,
   "metadata": {},
   "outputs": [],
   "source": [
    "import pandas as pd\n",
    "import numpy as np\n",
    "import matplotlib.pyplot as plt\n",
    "import seaborn as sns"
   ]
  },
  {
   "cell_type": "code",
   "execution_count": 2,
   "metadata": {},
   "outputs": [],
   "source": [
    "import warnings\n",
    "warnings.filterwarnings('ignore')"
   ]
  },
  {
   "cell_type": "code",
   "execution_count": 3,
   "metadata": {},
   "outputs": [],
   "source": [
    "pd.options.display.max_columns = None"
   ]
  },
  {
   "cell_type": "code",
   "execution_count": 4,
   "metadata": {},
   "outputs": [],
   "source": [
    "data = pd.read_csv(\"../datasets/fraud_data.csv\")"
   ]
  },
  {
   "cell_type": "code",
   "execution_count": 5,
   "metadata": {},
   "outputs": [
    {
     "data": {
      "text/html": [
       "<div>\n",
       "<style scoped>\n",
       "    .dataframe tbody tr th:only-of-type {\n",
       "        vertical-align: middle;\n",
       "    }\n",
       "\n",
       "    .dataframe tbody tr th {\n",
       "        vertical-align: top;\n",
       "    }\n",
       "\n",
       "    .dataframe thead th {\n",
       "        text-align: right;\n",
       "    }\n",
       "</style>\n",
       "<table border=\"1\" class=\"dataframe\">\n",
       "  <thead>\n",
       "    <tr style=\"text-align: right;\">\n",
       "      <th></th>\n",
       "      <th>trans_date_trans_time</th>\n",
       "      <th>merchant</th>\n",
       "      <th>category</th>\n",
       "      <th>amt</th>\n",
       "      <th>city</th>\n",
       "      <th>state</th>\n",
       "      <th>lat</th>\n",
       "      <th>long</th>\n",
       "      <th>city_pop</th>\n",
       "      <th>job</th>\n",
       "      <th>dob</th>\n",
       "      <th>trans_num</th>\n",
       "      <th>merch_lat</th>\n",
       "      <th>merch_long</th>\n",
       "      <th>is_fraud</th>\n",
       "    </tr>\n",
       "  </thead>\n",
       "  <tbody>\n",
       "    <tr>\n",
       "      <th>0</th>\n",
       "      <td>04-01-2019 00:58</td>\n",
       "      <td>\"Stokes, Christiansen and Sipes\"</td>\n",
       "      <td>grocery_net</td>\n",
       "      <td>14.37</td>\n",
       "      <td>Wales</td>\n",
       "      <td>AK</td>\n",
       "      <td>64.7556</td>\n",
       "      <td>-165.6723</td>\n",
       "      <td>145</td>\n",
       "      <td>\"Administrator, education\"</td>\n",
       "      <td>09-11-1939</td>\n",
       "      <td>a3806e984cec6ac0096d8184c64ad3a1</td>\n",
       "      <td>65.654142</td>\n",
       "      <td>-164.722603</td>\n",
       "      <td>1</td>\n",
       "    </tr>\n",
       "    <tr>\n",
       "      <th>1</th>\n",
       "      <td>04-01-2019 15:06</td>\n",
       "      <td>Predovic Inc</td>\n",
       "      <td>shopping_net</td>\n",
       "      <td>966.11</td>\n",
       "      <td>Wales</td>\n",
       "      <td>AK</td>\n",
       "      <td>64.7556</td>\n",
       "      <td>-165.6723</td>\n",
       "      <td>145</td>\n",
       "      <td>\"Administrator, education\"</td>\n",
       "      <td>09-11-1939</td>\n",
       "      <td>a59185fe1b9ccf21323f581d7477573f</td>\n",
       "      <td>65.468863</td>\n",
       "      <td>-165.473127</td>\n",
       "      <td>1</td>\n",
       "    </tr>\n",
       "    <tr>\n",
       "      <th>2</th>\n",
       "      <td>04-01-2019 22:37</td>\n",
       "      <td>Wisozk and Sons</td>\n",
       "      <td>misc_pos</td>\n",
       "      <td>49.61</td>\n",
       "      <td>Wales</td>\n",
       "      <td>AK</td>\n",
       "      <td>64.7556</td>\n",
       "      <td>-165.6723</td>\n",
       "      <td>145</td>\n",
       "      <td>\"Administrator, education\"</td>\n",
       "      <td>09-11-1939</td>\n",
       "      <td>86ba3a888b42cd3925881fa34177b4e0</td>\n",
       "      <td>65.347667</td>\n",
       "      <td>-165.914542</td>\n",
       "      <td>1</td>\n",
       "    </tr>\n",
       "    <tr>\n",
       "      <th>3</th>\n",
       "      <td>04-01-2019 23:06</td>\n",
       "      <td>Murray-Smitham</td>\n",
       "      <td>grocery_pos</td>\n",
       "      <td>295.26</td>\n",
       "      <td>Wales</td>\n",
       "      <td>AK</td>\n",
       "      <td>64.7556</td>\n",
       "      <td>-165.6723</td>\n",
       "      <td>145</td>\n",
       "      <td>\"Administrator, education\"</td>\n",
       "      <td>09-11-1939</td>\n",
       "      <td>3a068fe1d856f0ecedbed33e4b5f4496</td>\n",
       "      <td>64.445035</td>\n",
       "      <td>-166.080207</td>\n",
       "      <td>1</td>\n",
       "    </tr>\n",
       "    <tr>\n",
       "      <th>4</th>\n",
       "      <td>04-01-2019 23:59</td>\n",
       "      <td>Friesen Lt</td>\n",
       "      <td>health_fitness</td>\n",
       "      <td>18.17</td>\n",
       "      <td>Wales</td>\n",
       "      <td>AK</td>\n",
       "      <td>64.7556</td>\n",
       "      <td>-165.6723</td>\n",
       "      <td>145</td>\n",
       "      <td>\"Administrator, education\"</td>\n",
       "      <td>09-11-1939</td>\n",
       "      <td>891cdd1191028759dc20dc224347a0ff</td>\n",
       "      <td>65.447094</td>\n",
       "      <td>-165.446843</td>\n",
       "      <td>1</td>\n",
       "    </tr>\n",
       "  </tbody>\n",
       "</table>\n",
       "</div>"
      ],
      "text/plain": [
       "  trans_date_trans_time                          merchant        category  \\\n",
       "0      04-01-2019 00:58  \"Stokes, Christiansen and Sipes\"     grocery_net   \n",
       "1      04-01-2019 15:06                      Predovic Inc    shopping_net   \n",
       "2      04-01-2019 22:37                   Wisozk and Sons        misc_pos   \n",
       "3      04-01-2019 23:06                    Murray-Smitham     grocery_pos   \n",
       "4      04-01-2019 23:59                        Friesen Lt  health_fitness   \n",
       "\n",
       "      amt   city state      lat      long  city_pop  \\\n",
       "0   14.37  Wales    AK  64.7556 -165.6723       145   \n",
       "1  966.11  Wales    AK  64.7556 -165.6723       145   \n",
       "2   49.61  Wales    AK  64.7556 -165.6723       145   \n",
       "3  295.26  Wales    AK  64.7556 -165.6723       145   \n",
       "4   18.17  Wales    AK  64.7556 -165.6723       145   \n",
       "\n",
       "                          job         dob                         trans_num  \\\n",
       "0  \"Administrator, education\"  09-11-1939  a3806e984cec6ac0096d8184c64ad3a1   \n",
       "1  \"Administrator, education\"  09-11-1939  a59185fe1b9ccf21323f581d7477573f   \n",
       "2  \"Administrator, education\"  09-11-1939  86ba3a888b42cd3925881fa34177b4e0   \n",
       "3  \"Administrator, education\"  09-11-1939  3a068fe1d856f0ecedbed33e4b5f4496   \n",
       "4  \"Administrator, education\"  09-11-1939  891cdd1191028759dc20dc224347a0ff   \n",
       "\n",
       "   merch_lat  merch_long is_fraud  \n",
       "0  65.654142 -164.722603        1  \n",
       "1  65.468863 -165.473127        1  \n",
       "2  65.347667 -165.914542        1  \n",
       "3  64.445035 -166.080207        1  \n",
       "4  65.447094 -165.446843        1  "
      ]
     },
     "execution_count": 5,
     "metadata": {},
     "output_type": "execute_result"
    }
   ],
   "source": [
    "data.head(5)"
   ]
  },
  {
   "cell_type": "code",
   "execution_count": 6,
   "metadata": {},
   "outputs": [
    {
     "data": {
      "text/plain": [
       "trans_date_trans_time     object\n",
       "merchant                  object\n",
       "category                  object\n",
       "amt                      float64\n",
       "city                      object\n",
       "state                     object\n",
       "lat                      float64\n",
       "long                     float64\n",
       "city_pop                   int64\n",
       "job                       object\n",
       "dob                       object\n",
       "trans_num                 object\n",
       "merch_lat                float64\n",
       "merch_long               float64\n",
       "is_fraud                  object\n",
       "dtype: object"
      ]
     },
     "execution_count": 6,
     "metadata": {},
     "output_type": "execute_result"
    }
   ],
   "source": [
    "data.dtypes"
   ]
  },
  {
   "cell_type": "code",
   "execution_count": 7,
   "metadata": {},
   "outputs": [
    {
     "data": {
      "text/plain": [
       "trans_date_trans_time    0\n",
       "merchant                 0\n",
       "category                 0\n",
       "amt                      0\n",
       "city                     0\n",
       "state                    0\n",
       "lat                      0\n",
       "long                     0\n",
       "city_pop                 0\n",
       "job                      0\n",
       "dob                      0\n",
       "trans_num                0\n",
       "merch_lat                0\n",
       "merch_long               0\n",
       "is_fraud                 0\n",
       "dtype: int64"
      ]
     },
     "execution_count": 7,
     "metadata": {},
     "output_type": "execute_result"
    }
   ],
   "source": [
    "#No Missing values\n",
    "data.isnull().sum()"
   ]
  },
  {
   "cell_type": "code",
   "execution_count": 8,
   "metadata": {},
   "outputs": [],
   "source": [
    "#Assuming that, lat and long are the same of merch_lat and merch_long I'll drop it (Simple inspection, similar values)\n",
    "data.drop(['lat','long'],axis=1,inplace=True)"
   ]
  },
  {
   "cell_type": "code",
   "execution_count": 9,
   "metadata": {},
   "outputs": [],
   "source": [
    "#Columns to datetime:\n",
    "data['trans_date_trans_time'] = pd.to_datetime(data['trans_date_trans_time'], format='%d-%m-%Y %H:%M')\n",
    "data['dob'] = pd.to_datetime(data['dob'], format='%d-%m-%Y')"
   ]
  },
  {
   "cell_type": "code",
   "execution_count": 10,
   "metadata": {},
   "outputs": [
    {
     "name": "stdout",
     "output_type": "stream",
     "text": [
      "['0' '0\"2019-01-01 00:00:44\"' '1' '1\"2020-12-24 16:56:24\"']\n",
      "['0' '1']\n"
     ]
    }
   ],
   "source": [
    "#Target Column to integer, but first a simple check:\n",
    "print(np.unique(data[['is_fraud']].values))\n",
    "\n",
    "#There are some values differents of 0 or 1 so I need to remove them\n",
    "data = data.loc[data['is_fraud'].isin([\"0\",\"1\"])]\n",
    "\n",
    "print(np.unique(data[['is_fraud']].values))\n",
    "\n",
    "data['is_fraud'] = data['is_fraud'].astype(int)"
   ]
  },
  {
   "cell_type": "code",
   "execution_count": 11,
   "metadata": {},
   "outputs": [
    {
     "data": {
      "text/plain": [
       "trans_date_trans_time    datetime64[ns]\n",
       "merchant                         object\n",
       "category                         object\n",
       "amt                             float64\n",
       "city                             object\n",
       "state                            object\n",
       "city_pop                          int64\n",
       "job                              object\n",
       "dob                      datetime64[ns]\n",
       "trans_num                        object\n",
       "merch_lat                       float64\n",
       "merch_long                      float64\n",
       "is_fraud                          int64\n",
       "dtype: object"
      ]
     },
     "execution_count": 11,
     "metadata": {},
     "output_type": "execute_result"
    }
   ],
   "source": [
    "data.dtypes"
   ]
  },
  {
   "cell_type": "code",
   "execution_count": 12,
   "metadata": {},
   "outputs": [],
   "source": [
    "#Feature Engineering\n",
    "from datetime import date\n",
    "\n",
    "# In order to avoid data types issues:\n",
    "today = pd.to_datetime(date.today(), format='%d-%m-%Y')\n",
    "\n",
    "# New release of numpy doesn't support 'Y' and 'M' so we need to do a little work to arrived to year:\n",
    "data['owner_age'] = (today - data['dob']) / np.timedelta64(1, 'W')\n",
    "data['owner_age'] = (data['owner_age'] / 52).astype(int) #Here I´m supposing that, every year has 52 weeks.\n",
    "data.drop('dob', axis=1, inplace=True)"
   ]
  },
  {
   "cell_type": "code",
   "execution_count": 13,
   "metadata": {},
   "outputs": [],
   "source": [
    "#Extracting all the information from the transaction date and then drop it:\n",
    "data['year'] = data['trans_date_trans_time'].dt.year\n",
    "data['month'] = data['trans_date_trans_time'].dt.month\n",
    "data['day'] = data['trans_date_trans_time'].dt.day\n",
    "\n",
    "data['hour'] = data['trans_date_trans_time'].dt.hour\n",
    "data['min'] = data['trans_date_trans_time'].dt.minute\n",
    "data['sec'] = data['trans_date_trans_time'].dt.second\n",
    "\n",
    "data.drop('trans_date_trans_time',axis=1,inplace=True)"
   ]
  },
  {
   "cell_type": "code",
   "execution_count": 14,
   "metadata": {},
   "outputs": [],
   "source": [
    "#I´ll drop 'merchant' and 'trans_num' because I think there are not useful\n",
    "data.drop(['merchant','trans_num'],axis=1,inplace=True)\n",
    "\n",
    "#Also I´ll drop 'city' and 'state' because I think there are redundant data (we already have lat and long)\n",
    "data.drop(['city','state'],axis=1,inplace=True)"
   ]
  },
  {
   "cell_type": "code",
   "execution_count": 15,
   "metadata": {},
   "outputs": [],
   "source": [
    "#Encoding\n",
    "#In this case, I´ll try to avoid use label encoding becuase Machine learning algorithms \n",
    "# may misinterpret the integer labels as having mathematical significance\n",
    "np.unique(data['category'].values) #13 categories\n",
    "\n",
    "data = pd.get_dummies(data, columns=['category'], dtype='int') #get_dummies ommits one category and by default return boolean.\n"
   ]
  },
  {
   "cell_type": "code",
   "execution_count": 28,
   "metadata": {},
   "outputs": [
    {
     "data": {
      "text/plain": [
       "((11555, 26), (11555,), (2889, 26), (2889,))"
      ]
     },
     "execution_count": 28,
     "metadata": {},
     "output_type": "execute_result"
    }
   ],
   "source": [
    "from sklearn.model_selection import train_test_split\n",
    "\n",
    "X = data.loc[:, data.columns != 'is_fraud']\n",
    "y = data['is_fraud']\n",
    "\n",
    "X_train, X_test, y_train, y_test = train_test_split(X, y, test_size= 0.2, random_state=42)\n",
    "\n",
    "X_train.shape, y_train.shape, X_test.shape, y_test.shape"
   ]
  },
  {
   "cell_type": "code",
   "execution_count": 50,
   "metadata": {},
   "outputs": [
    {
     "name": "stdout",
     "output_type": "stream",
     "text": [
      "Warning: No categorical columns found. Calling 'transform' will only return input data.\n"
     ]
    },
    {
     "data": {
      "text/html": [
       "<div>\n",
       "<style scoped>\n",
       "    .dataframe tbody tr th:only-of-type {\n",
       "        vertical-align: middle;\n",
       "    }\n",
       "\n",
       "    .dataframe tbody tr th {\n",
       "        vertical-align: top;\n",
       "    }\n",
       "\n",
       "    .dataframe thead th {\n",
       "        text-align: right;\n",
       "    }\n",
       "</style>\n",
       "<table border=\"1\" class=\"dataframe\">\n",
       "  <thead>\n",
       "    <tr style=\"text-align: right;\">\n",
       "      <th></th>\n",
       "      <th>amt</th>\n",
       "      <th>city_pop</th>\n",
       "      <th>job</th>\n",
       "      <th>merch_lat</th>\n",
       "      <th>merch_long</th>\n",
       "      <th>owner_age</th>\n",
       "      <th>year</th>\n",
       "      <th>month</th>\n",
       "      <th>day</th>\n",
       "      <th>hour</th>\n",
       "      <th>min</th>\n",
       "      <th>sec</th>\n",
       "      <th>category_entertainment</th>\n",
       "      <th>category_food_dining</th>\n",
       "      <th>category_gas_transport</th>\n",
       "      <th>category_grocery_net</th>\n",
       "      <th>category_grocery_pos</th>\n",
       "      <th>category_health_fitness</th>\n",
       "      <th>category_home</th>\n",
       "      <th>category_kids_pets</th>\n",
       "      <th>category_misc_net</th>\n",
       "      <th>category_misc_pos</th>\n",
       "      <th>category_personal_care</th>\n",
       "      <th>category_shopping_net</th>\n",
       "      <th>category_shopping_pos</th>\n",
       "      <th>category_travel</th>\n",
       "    </tr>\n",
       "  </thead>\n",
       "  <tbody>\n",
       "    <tr>\n",
       "      <th>4418</th>\n",
       "      <td>84.93</td>\n",
       "      <td>35705</td>\n",
       "      <td>0.126093</td>\n",
       "      <td>33.562114</td>\n",
       "      <td>-116.745451</td>\n",
       "      <td>68</td>\n",
       "      <td>2020</td>\n",
       "      <td>12</td>\n",
       "      <td>28</td>\n",
       "      <td>2</td>\n",
       "      <td>18</td>\n",
       "      <td>0</td>\n",
       "      <td>0</td>\n",
       "      <td>0</td>\n",
       "      <td>0</td>\n",
       "      <td>0</td>\n",
       "      <td>1</td>\n",
       "      <td>0</td>\n",
       "      <td>0</td>\n",
       "      <td>0</td>\n",
       "      <td>0</td>\n",
       "      <td>0</td>\n",
       "      <td>0</td>\n",
       "      <td>0</td>\n",
       "      <td>0</td>\n",
       "      <td>0</td>\n",
       "    </tr>\n",
       "    <tr>\n",
       "      <th>907</th>\n",
       "      <td>20.00</td>\n",
       "      <td>5662</td>\n",
       "      <td>0.126093</td>\n",
       "      <td>35.191041</td>\n",
       "      <td>-108.255173</td>\n",
       "      <td>35</td>\n",
       "      <td>2019</td>\n",
       "      <td>12</td>\n",
       "      <td>12</td>\n",
       "      <td>22</td>\n",
       "      <td>11</td>\n",
       "      <td>0</td>\n",
       "      <td>0</td>\n",
       "      <td>0</td>\n",
       "      <td>0</td>\n",
       "      <td>0</td>\n",
       "      <td>0</td>\n",
       "      <td>0</td>\n",
       "      <td>0</td>\n",
       "      <td>0</td>\n",
       "      <td>0</td>\n",
       "      <td>0</td>\n",
       "      <td>1</td>\n",
       "      <td>0</td>\n",
       "      <td>0</td>\n",
       "      <td>0</td>\n",
       "    </tr>\n",
       "    <tr>\n",
       "      <th>2860</th>\n",
       "      <td>3.94</td>\n",
       "      <td>759</td>\n",
       "      <td>0.126093</td>\n",
       "      <td>46.703974</td>\n",
       "      <td>-121.232877</td>\n",
       "      <td>68</td>\n",
       "      <td>2020</td>\n",
       "      <td>12</td>\n",
       "      <td>26</td>\n",
       "      <td>9</td>\n",
       "      <td>25</td>\n",
       "      <td>0</td>\n",
       "      <td>0</td>\n",
       "      <td>0</td>\n",
       "      <td>0</td>\n",
       "      <td>0</td>\n",
       "      <td>0</td>\n",
       "      <td>0</td>\n",
       "      <td>0</td>\n",
       "      <td>0</td>\n",
       "      <td>1</td>\n",
       "      <td>0</td>\n",
       "      <td>0</td>\n",
       "      <td>0</td>\n",
       "      <td>0</td>\n",
       "      <td>0</td>\n",
       "    </tr>\n",
       "    <tr>\n",
       "      <th>5837</th>\n",
       "      <td>4.69</td>\n",
       "      <td>4878</td>\n",
       "      <td>0.126093</td>\n",
       "      <td>19.431310</td>\n",
       "      <td>-155.021034</td>\n",
       "      <td>57</td>\n",
       "      <td>2020</td>\n",
       "      <td>12</td>\n",
       "      <td>29</td>\n",
       "      <td>11</td>\n",
       "      <td>0</td>\n",
       "      <td>0</td>\n",
       "      <td>0</td>\n",
       "      <td>0</td>\n",
       "      <td>0</td>\n",
       "      <td>0</td>\n",
       "      <td>0</td>\n",
       "      <td>0</td>\n",
       "      <td>0</td>\n",
       "      <td>0</td>\n",
       "      <td>0</td>\n",
       "      <td>0</td>\n",
       "      <td>0</td>\n",
       "      <td>0</td>\n",
       "      <td>1</td>\n",
       "      <td>0</td>\n",
       "    </tr>\n",
       "    <tr>\n",
       "      <th>2716</th>\n",
       "      <td>182.15</td>\n",
       "      <td>545147</td>\n",
       "      <td>0.126093</td>\n",
       "      <td>38.398077</td>\n",
       "      <td>-95.400727</td>\n",
       "      <td>36</td>\n",
       "      <td>2020</td>\n",
       "      <td>12</td>\n",
       "      <td>26</td>\n",
       "      <td>3</td>\n",
       "      <td>35</td>\n",
       "      <td>0</td>\n",
       "      <td>0</td>\n",
       "      <td>0</td>\n",
       "      <td>0</td>\n",
       "      <td>0</td>\n",
       "      <td>1</td>\n",
       "      <td>0</td>\n",
       "      <td>0</td>\n",
       "      <td>0</td>\n",
       "      <td>0</td>\n",
       "      <td>0</td>\n",
       "      <td>0</td>\n",
       "      <td>0</td>\n",
       "      <td>0</td>\n",
       "      <td>0</td>\n",
       "    </tr>\n",
       "  </tbody>\n",
       "</table>\n",
       "</div>"
      ],
      "text/plain": [
       "         amt  city_pop       job  merch_lat  merch_long  owner_age  year  \\\n",
       "4418   84.93     35705  0.126093  33.562114 -116.745451         68  2020   \n",
       "907    20.00      5662  0.126093  35.191041 -108.255173         35  2019   \n",
       "2860    3.94       759  0.126093  46.703974 -121.232877         68  2020   \n",
       "5837    4.69      4878  0.126093  19.431310 -155.021034         57  2020   \n",
       "2716  182.15    545147  0.126093  38.398077  -95.400727         36  2020   \n",
       "\n",
       "      month  day  hour  min  sec  category_entertainment  \\\n",
       "4418     12   28     2   18    0                       0   \n",
       "907      12   12    22   11    0                       0   \n",
       "2860     12   26     9   25    0                       0   \n",
       "5837     12   29    11    0    0                       0   \n",
       "2716     12   26     3   35    0                       0   \n",
       "\n",
       "      category_food_dining  category_gas_transport  category_grocery_net  \\\n",
       "4418                     0                       0                     0   \n",
       "907                      0                       0                     0   \n",
       "2860                     0                       0                     0   \n",
       "5837                     0                       0                     0   \n",
       "2716                     0                       0                     0   \n",
       "\n",
       "      category_grocery_pos  category_health_fitness  category_home  \\\n",
       "4418                     1                        0              0   \n",
       "907                      0                        0              0   \n",
       "2860                     0                        0              0   \n",
       "5837                     0                        0              0   \n",
       "2716                     1                        0              0   \n",
       "\n",
       "      category_kids_pets  category_misc_net  category_misc_pos  \\\n",
       "4418                   0                  0                  0   \n",
       "907                    0                  0                  0   \n",
       "2860                   0                  1                  0   \n",
       "5837                   0                  0                  0   \n",
       "2716                   0                  0                  0   \n",
       "\n",
       "      category_personal_care  category_shopping_net  category_shopping_pos  \\\n",
       "4418                       0                      0                      0   \n",
       "907                        1                      0                      0   \n",
       "2860                       0                      0                      0   \n",
       "5837                       0                      0                      1   \n",
       "2716                       0                      0                      0   \n",
       "\n",
       "      category_travel  \n",
       "4418                0  \n",
       "907                 0  \n",
       "2860                0  \n",
       "5837                0  \n",
       "2716                0  "
      ]
     },
     "execution_count": 50,
     "metadata": {},
     "output_type": "execute_result"
    }
   ],
   "source": [
    "#For 'job' I want to try something different becuase has a lot of categories:\n",
    "#print(data['job'].nunique()) #163 categories\n",
    "\n",
    "from category_encoders.cat_boost import CatBoostEncoder\n",
    "\n",
    "CBE = CatBoostEncoder()\n",
    "\n",
    "X_train['job'] = CBE.fit_transform(X_train['job'], y_train)\n",
    "\n",
    "X_test['job'] = CBE.transform(X_test['job'])\n"
   ]
  },
  {
   "cell_type": "code",
   "execution_count": 53,
   "metadata": {},
   "outputs": [
    {
     "data": {
      "text/plain": [
       "array([[-1.67748727e-01, -2.43119573e-01,  2.83510991e-01, ...,\n",
       "        -3.30360455e-01, -3.16318070e-01, -1.67133054e-01],\n",
       "       [-4.50209774e-01, -3.47303110e-01,  2.83510991e-01, ...,\n",
       "        -3.30360455e-01, -3.16318070e-01, -1.67133054e-01],\n",
       "       [-5.20074620e-01, -3.64305802e-01,  2.83510991e-01, ...,\n",
       "        -3.30360455e-01, -3.16318070e-01, -1.67133054e-01],\n",
       "       ...,\n",
       "       [ 2.67456722e+00, -9.13568973e-04,  2.83510991e-01, ...,\n",
       "        -3.30360455e-01,  3.16137488e+00, -1.67133054e-01],\n",
       "       [-5.14375806e-01, -3.60872666e-01,  2.83510991e-01, ...,\n",
       "        -3.30360455e-01, -3.16318070e-01, -1.67133054e-01],\n",
       "       [-2.46227047e-01, -3.58726089e-01,  2.83510991e-01, ...,\n",
       "        -3.30360455e-01, -3.16318070e-01, -1.67133054e-01]])"
      ]
     },
     "execution_count": 53,
     "metadata": {},
     "output_type": "execute_result"
    }
   ],
   "source": [
    "from sklearn.preprocessing import StandardScaler\n",
    "\n",
    "StdSc = StandardScaler()\n",
    "\n",
    "X_train = StdSc.fit_transform(X_train)\n",
    "X_test = StdSc.transform(X_test)\n"
   ]
  },
  {
   "cell_type": "code",
   "execution_count": 65,
   "metadata": {},
   "outputs": [
    {
     "name": "stdout",
     "output_type": "stream",
     "text": [
      "0.8029\n"
     ]
    }
   ],
   "source": [
    "# from sklearn.linear_model import LogisticRegression\n",
    "# from sklearn import metrics\n",
    "\n",
    "# clf = LogisticRegression(random_state=0).fit(X_train, y_train)\n",
    "# preds = clf.predict(X_test)\n",
    "\n",
    "# '''\n",
    "# AUC, or the Area Under the Receiver Operating Characteristic curve measures how well a binary classifier \n",
    "# distinguishes between positive and negative classes. Traditionally, you would plot the ROC curve, \n",
    "# and the AUC measures the area under the curve. Higher AUC means better performance, and vice-versa.\n",
    "# '''\n",
    "\n",
    "# #ROC and AUC metric:\n",
    "# fpr, tpr, thresholds = metrics.roc_curve(y_test,preds)\n",
    "# print(np.round(metrics.auc(fpr, tpr),4)) # 0.8029"
   ]
  },
  {
   "cell_type": "code",
   "execution_count": null,
   "metadata": {},
   "outputs": [
    {
     "name": "stdout",
     "output_type": "stream",
     "text": [
      "0.7569\n"
     ]
    }
   ],
   "source": [
    "# from sklearn.naive_bayes import GaussianNB\n",
    "\n",
    "# nb = GaussianNB()\n",
    "\n",
    "# nb.fit(X_train, y_train)\n",
    "# preds = nb.predict(X_test)\n",
    "\n",
    "# #ROC and AUC metric:\n",
    "# fpr, tpr, thresholds = metrics.roc_curve(y_test,preds)\n",
    "# print(np.round(metrics.auc(fpr, tpr),4)) # 0.7569"
   ]
  },
  {
   "cell_type": "code",
   "execution_count": 66,
   "metadata": {},
   "outputs": [
    {
     "name": "stdout",
     "output_type": "stream",
     "text": [
      "0.8837\n"
     ]
    }
   ],
   "source": [
    "# from sklearn.neighbors import KNeighborsClassifier\n",
    "\n",
    "# knn = KNeighborsClassifier()\n",
    "\n",
    "# knn.fit(X_train, y_train)\n",
    "# preds = knn.predict(X_test)\n",
    "\n",
    "# #ROC and AUC metric:\n",
    "# fpr, tpr, thresholds = metrics.roc_curve(y_test,preds)\n",
    "# print(np.round(metrics.auc(fpr, tpr),4)) # 0.8837\n"
   ]
  },
  {
   "cell_type": "code",
   "execution_count": 67,
   "metadata": {},
   "outputs": [
    {
     "name": "stdout",
     "output_type": "stream",
     "text": [
      "0.9379\n"
     ]
    }
   ],
   "source": [
    "# from sklearn.svm import SVC\n",
    "\n",
    "# svc = SVC()\n",
    "\n",
    "# svc.fit(X_train, y_train)\n",
    "# preds = svc.predict(X_test)\n",
    "\n",
    "# #ROC and AUC metric:\n",
    "# fpr, tpr, thresholds = metrics.roc_curve(y_test,preds)\n",
    "# print(np.round(metrics.auc(fpr, tpr),4)) # 0.9379"
   ]
  },
  {
   "cell_type": "code",
   "execution_count": 68,
   "metadata": {},
   "outputs": [
    {
     "name": "stdout",
     "output_type": "stream",
     "text": [
      "0.9996\n"
     ]
    }
   ],
   "source": [
    "# from sklearn.ensemble import RandomForestClassifier\n",
    "\n",
    "# rf = RandomForestClassifier()\n",
    "\n",
    "# rf.fit(X_train, y_train)\n",
    "# preds = rf.predict(X_test)\n",
    "\n",
    "# #ROC and AUC metric:\n",
    "# fpr, tpr, thresholds = metrics.roc_curve(y_test,preds)\n",
    "# print(np.round(metrics.auc(fpr, tpr),4)) # 0.9996"
   ]
  },
  {
   "cell_type": "code",
   "execution_count": 71,
   "metadata": {},
   "outputs": [
    {
     "name": "stdout",
     "output_type": "stream",
     "text": [
      "0.9944\n"
     ]
    }
   ],
   "source": [
    "# # Just for fun!\n",
    "# from sklearn.ensemble import GradientBoostingClassifier\n",
    "\n",
    "# gb = GradientBoostingClassifier()\n",
    "\n",
    "# gb.fit(X_train, y_train)\n",
    "# preds = gb.predict(X_test)\n",
    "\n",
    "# #ROC and AUC metric:\n",
    "# fpr, tpr, thresholds = metrics.roc_curve(y_test,preds)\n",
    "# print(np.round(metrics.auc(fpr, tpr),4)) # 0.9944\n"
   ]
  },
  {
   "cell_type": "code",
   "execution_count": 74,
   "metadata": {},
   "outputs": [
    {
     "name": "stdout",
     "output_type": "stream",
     "text": [
      "0.9456\n"
     ]
    }
   ],
   "source": [
    "# Assuming that, we consider 0.85 or above a good performance in test, we will try to optimize the performance of the best algoritms\n",
    "\n",
    "#NOTE: This part are use of CPU intensely, so if you prefer you can modify n_jobs in RandomizedSearchCV to a possitive number.\n",
    "from sklearn.model_selection import RandomizedSearchCV\n",
    "\n",
    "#Around one minute running on premises.\n",
    "\n",
    "# params = {\n",
    "#     'C': [0.8, 0.85, 0.90, 0.95, 1.0, 1.05, 1.15, 1.20], #Default: 1.0\n",
    "#     'kernel': ['linear', 'poly', 'rbf', 'sigmoid'], #Default 'rbf'\n",
    "# }\n",
    "\n",
    "# rs = RandomizedSearchCV(\n",
    "#     estimator = SVC(),\n",
    "#     param_distributions = params,\n",
    "#     n_iter = 10,\n",
    "#     scoring = 'roc_auc',\n",
    "#     n_jobs = -1,\n",
    "#     random_state = 42\n",
    "# )\n",
    "\n",
    "# rs.fit(X_train, y_train)\n",
    "# preds = rs.predict(X_test)\n",
    "\n",
    "# #ROC and AUC metric:\n",
    "# fpr, tpr, thresholds = metrics.roc_curve(y_test,preds)\n",
    "# print(np.round(metrics.auc(fpr, tpr),4)) # 0.9456 vs 0.9379 (Model with default hyperparameters)"
   ]
  },
  {
   "cell_type": "code",
   "execution_count": 75,
   "metadata": {},
   "outputs": [
    {
     "name": "stdout",
     "output_type": "stream",
     "text": [
      "0.9996\n"
     ]
    }
   ],
   "source": [
    "# params = {\n",
    "#     'n_estimators': [80, 90, 100, 110, 120], # Default= 100\n",
    "#     'criterion': ['gini', 'entropy', 'log_loss'], #Default 'gini'\n",
    "#     'min_samples_leaf': [1, 2, 3] #Default 1\n",
    "# }\n",
    "\n",
    "# rs = RandomizedSearchCV(\n",
    "#     estimator = RandomForestClassifier(),\n",
    "#     param_distributions = params,\n",
    "#     n_iter = 10,\n",
    "#     scoring = 'roc_auc',\n",
    "#     n_jobs = -1,\n",
    "#     random_state = 42\n",
    "# )\n",
    "\n",
    "# rs.fit(X_train, y_train)\n",
    "# preds = rs.predict(X_test)\n",
    "\n",
    "# #ROC and AUC metric:\n",
    "# fpr, tpr, thresholds = metrics.roc_curve(y_test,preds)\n",
    "# print(np.round(metrics.auc(fpr, tpr),4)) # 0.9996 (Same as the model with default hyperparameters)"
   ]
  },
  {
   "cell_type": "code",
   "execution_count": 77,
   "metadata": {},
   "outputs": [
    {
     "name": "stdout",
     "output_type": "stream",
     "text": [
      "1.0\n"
     ]
    }
   ],
   "source": [
    "#More than 2 minutes running on premises.\n",
    "# params = {\n",
    "#     'learning_rate': [0.05, 0.01, 0.015, 0.02], #Default 0.1\n",
    "#     'n_estimators': [80, 90, 100, 110, 120], # Default= 100\n",
    "#     'min_samples_leaf': [1, 2, 3], #Default 1\n",
    "#     'max_depth': [3, 5, 7, 9] #Default 3\n",
    "# }\n",
    "\n",
    "# rs = RandomizedSearchCV(\n",
    "#     estimator = GradientBoostingClassifier(),\n",
    "#     param_distributions = params,\n",
    "#     n_iter = 10,\n",
    "#     scoring = 'roc_auc',\n",
    "#     n_jobs = -1,\n",
    "#     random_state = 42\n",
    "# )\n",
    "\n",
    "# rs.fit(X_train, y_train)\n",
    "# preds = rs.predict(X_test)\n",
    "\n",
    "# #ROC and AUC metric:\n",
    "# fpr, tpr, thresholds = metrics.roc_curve(y_test,preds)\n",
    "# print(np.round(metrics.auc(fpr, tpr),4)) # 1.00 vs 0.9944(Model with default hyperparameters)"
   ]
  }
 ],
 "metadata": {
  "kernelspec": {
   "display_name": "venv",
   "language": "python",
   "name": "python3"
  },
  "language_info": {
   "codemirror_mode": {
    "name": "ipython",
    "version": 3
   },
   "file_extension": ".py",
   "mimetype": "text/x-python",
   "name": "python",
   "nbconvert_exporter": "python",
   "pygments_lexer": "ipython3",
   "version": "3.9.2"
  }
 },
 "nbformat": 4,
 "nbformat_minor": 2
}
